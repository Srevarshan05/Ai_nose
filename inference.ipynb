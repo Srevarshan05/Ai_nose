{
 "cells": [
  {
   "cell_type": "code",
   "execution_count": 1,
   "id": "e32d12ac",
   "metadata": {},
   "outputs": [],
   "source": [
    "import joblib\n",
    "import pandas as pd\n",
    "\n",
    "# Load saved model and scaler\n",
    "rf_model = joblib.load('random_forest_air_quality.pkl')\n",
    "scaler = joblib.load('scaler_air_quality.pkl')\n"
   ]
  },
  {
   "cell_type": "code",
   "execution_count": 2,
   "id": "054ad6f4",
   "metadata": {},
   "outputs": [],
   "source": [
    "# Example new sensor reading\n",
    "new_data = pd.DataFrame({\n",
    "    'mq3_rs_r0': [0.45],  # Replace with new Rs/R0 value from MQ-3\n",
    "    'mq9_rs_r0': [0.52],  # Replace with new Rs/R0 value from MQ-9\n",
    "    'hour': [18]          # Hour of the day (0–23)\n",
    "})\n"
   ]
  },
  {
   "cell_type": "code",
   "execution_count": 3,
   "id": "b5acfe81",
   "metadata": {},
   "outputs": [],
   "source": [
    "# Scale the input data\n",
    "new_data_scaled = scaler.transform(new_data)\n"
   ]
  },
  {
   "cell_type": "code",
   "execution_count": 4,
   "id": "24e6c853",
   "metadata": {},
   "outputs": [
    {
     "name": "stdout",
     "output_type": "stream",
     "text": [
      "Predicted Air Quality Condition: Foul\n"
     ]
    }
   ],
   "source": [
    "#make predictions\n",
    "predicted_label = rf_model.predict(new_data_scaled)[0]\n",
    "print(\"Predicted Air Quality Condition:\", predicted_label)\n"
   ]
  },
  {
   "cell_type": "code",
   "execution_count": 5,
   "id": "10927a08",
   "metadata": {},
   "outputs": [
    {
     "name": "stdout",
     "output_type": "stream",
     "text": [
      "Class Probabilities: [[0.         0.56333333 0.         0.43666667]]\n"
     ]
    }
   ],
   "source": [
    "# getting probablity of each classes\n",
    "probabilities = rf_model.predict_proba(new_data_scaled)\n",
    "print(\"Class Probabilities:\", probabilities)\n"
   ]
  },
  {
   "cell_type": "code",
   "execution_count": 8,
   "id": "b2aed452",
   "metadata": {},
   "outputs": [
    {
     "name": "stdout",
     "output_type": "stream",
     "text": [
      "Prediction: Clean\n"
     ]
    }
   ],
   "source": [
    "import pandas as pd\n",
    "from datetime import datetime\n",
    "import joblib\n",
    "\n",
    "# Load model and scaler\n",
    "rf_model = joblib.load('random_forest_air_quality.pkl')\n",
    "scaler = joblib.load('scaler_air_quality.pkl')\n",
    "\n",
    "# Sensor R0 values (from calibration)\n",
    "mq3_r0 = 17200\n",
    "mq9_r0 = 21940\n",
    "\n",
    "# Rs/R0 function\n",
    "def rs_r0(adc, r0, vcc=5.0, rl=5000, adc_vmax=3.3):\n",
    "    vout = (adc / 4095) * adc_vmax\n",
    "    if vout == 0:\n",
    "        return float('inf')\n",
    "    rs = rl * ((vcc / vout) - 1)\n",
    "    return rs / r0\n",
    "\n",
    "# 🔥 Firebase Data\n",
    "firebase_data = {\n",
    "    'mq3_value': 1235,\n",
    "    'mq9_value': 971,\n",
    "    'timestamp': \"2025-06-10 10:40:41\"\n",
    "}\n",
    "\n",
    "# Extract hour\n",
    "timestamp_obj = datetime.strptime(firebase_data['timestamp'], \"%Y-%m-%d %H:%M:%S\")\n",
    "hour = timestamp_obj.hour\n",
    "\n",
    "# Convert ADC to Rs/R0\n",
    "mq3_rs = rs_r0(firebase_data['mq3_value'], mq3_r0)\n",
    "mq9_rs = rs_r0(firebase_data['mq9_value'], mq9_r0)\n",
    "\n",
    "# Build DataFrame for model\n",
    "new_data = pd.DataFrame([{\n",
    "    'mq3_rs_r0': mq3_rs,\n",
    "    'mq9_rs_r0': mq9_rs,\n",
    "    'hour': hour\n",
    "}])\n",
    "\n",
    "# Scale and predict\n",
    "new_data_scaled = scaler.transform(new_data)\n",
    "prediction = rf_model.predict(new_data_scaled)[0]\n",
    "\n",
    "print(\"Prediction:\", prediction)\n"
   ]
  },
  {
   "cell_type": "code",
   "execution_count": null,
   "id": "571cbf80",
   "metadata": {},
   "outputs": [],
   "source": []
  }
 ],
 "metadata": {
  "kernelspec": {
   "display_name": "smell",
   "language": "python",
   "name": "python3"
  },
  "language_info": {
   "codemirror_mode": {
    "name": "ipython",
    "version": 3
   },
   "file_extension": ".py",
   "mimetype": "text/x-python",
   "name": "python",
   "nbconvert_exporter": "python",
   "pygments_lexer": "ipython3",
   "version": "3.9.6"
  }
 },
 "nbformat": 4,
 "nbformat_minor": 5
}
